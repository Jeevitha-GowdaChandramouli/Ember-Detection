{
 "cells": [
  {
   "cell_type": "code",
   "execution_count": 16,
   "metadata": {},
   "outputs": [
    {
     "name": "stdout",
     "output_type": "stream",
     "text": [
      "*************************-----------***************\n",
      "*****Object type: FasterRCNN\n",
      "*************************-----------***************\n",
      "*****Object type: ResNet\n",
      "*************************-----------***************\n",
      "*****Object type: FPN\n",
      "*************************-----------***************\n",
      "*****Object type: RPNHead\n",
      "*************************-----------***************\n",
      "*****Object type: DeltaXYWHBBoxCoder\n",
      "*************************-----------***************\n",
      "*****Object type: CrossEntropyLoss\n",
      "*************************-----------***************\n",
      "*****Object type: L1Loss\n",
      "*************************-----------***************\n",
      "*****Object type: AnchorGenerator\n",
      "*************************-----------***************\n",
      "*****Object type: StandardRoIHead\n",
      "*************************-----------***************\n",
      "*****Object type: SingleRoIExtractor\n",
      "*************************-----------***************\n",
      "*****Object type: Shared2FCBBoxHead\n",
      "*************************-----------***************\n",
      "*****Object type: DeltaXYWHBBoxCoder\n",
      "*************************-----------***************\n",
      "*****Object type: CrossEntropyLoss\n",
      "*************************-----------***************\n",
      "*****Object type: L1Loss\n",
      "load checkpoint from local path: exps/0415_take2_lowscale_medscale/latest.pth\n",
      "*************************-----------***************\n",
      "*****Object type: LoadImageFromWebcam\n",
      "*************************-----------***************\n",
      "*****Object type: MultiScaleFlipAug\n",
      "*************************-----------***************\n",
      "*****Object type: Resize\n",
      "*************************-----------***************\n",
      "*****Object type: RandomFlip\n",
      "*************************-----------***************\n",
      "*****Object type: Normalize\n",
      "*************************-----------***************\n",
      "*****Object type: Pad\n",
      "*************************-----------***************\n",
      "*****Object type: DefaultFormatBundle\n",
      "*************************-----------***************\n",
      "*****Object type: Collect\n"
     ]
    }
   ],
   "source": [
    "from mmdet.apis import init_detector, inference_detector\n",
    "import mmcv\n",
    "\n",
    "# Specify the path to model config and checkpoint file\n",
    "config_file = 'exps/0415_take2_lowscale_medscale/faster_rcnn_r50_caffe_fpn_mstrain_1x_ember_RPN.py'\n",
    "checkpoint_file = 'exps/0415_take2_lowscale_medscale/latest.pth'\n",
    "\n",
    "# build the model from a config file and a checkpoint file\n",
    "model = init_detector(config_file, checkpoint_file, device='cuda:0')\n",
    "\n",
    "# test a single image and show the results\n",
    "img = mmcv.imread(\"data/0415_take2/test/27.jpg\")  # or img = mmcv.imread(img), which will only load it once\n",
    "result = inference_detector(model, img)\n",
    "# visualize the results in a new window\n",
    "model.show_result(img, result)\n",
    "# or save the visualization results to image files\n",
    "model.show_result(img, result, out_file='bbox_imgs/0415_take2/low_med_scale/27_box_Test_anchor_4_8.jpg')\n"
   ]
  },
  {
   "cell_type": "code",
   "execution_count": 22,
   "metadata": {},
   "outputs": [
    {
     "name": "stdout",
     "output_type": "stream",
     "text": [
      "*************************-----------***************\n",
      "*****Object type: LoadImageFromWebcam\n",
      "*************************-----------***************\n",
      "*****Object type: MultiScaleFlipAug\n",
      "*************************-----------***************\n",
      "*****Object type: Resize\n",
      "*************************-----------***************\n",
      "*****Object type: RandomFlip\n",
      "*************************-----------***************\n",
      "*****Object type: Normalize\n",
      "*************************-----------***************\n",
      "*****Object type: Pad\n",
      "*************************-----------***************\n",
      "*****Object type: DefaultFormatBundle\n",
      "*************************-----------***************\n",
      "*****Object type: Collect\n"
     ]
    }
   ],
   "source": [
    "from PIL import Image\n",
    "import cv2\n",
    "import numpy\n",
    " \n",
    "# Opens a image in RGB mode\n",
    "im = Image.open(r\"data/0408_take1/test/61.jpg\")\n",
    " \n",
    "# Size of the image in pixels (size of original image)\n",
    "# (This is not mandatory)\n",
    "width, height = im.size\n",
    " \n",
    "# Setting the points for cropped image\n",
    "left = 4\n",
    "top = height / 5\n",
    "right = 154\n",
    "bottom = 3 * height / 5\n",
    " \n",
    "# Cropped image of above dimension\n",
    "# (It will not change original image)\n",
    "im1 = im.crop((left, top, right, bottom))\n",
    "newsize = (2560, 1080)\n",
    "im1 = im1.resize(newsize)\n",
    "filename = 'bbox_imgs/61_bbox_blackbg1.jpg'\n",
    "open_cv_image = numpy.array(im1) \n",
    "cv2.imwrite(filename, open_cv_image) \n",
    "\n",
    "img = mmcv.imread(\"bbox_imgs/61_bbox_blackbg1.jpg\")  # or img = mmcv.imread(img), which will only load it once\n",
    "result = inference_detector(model, img)\n",
    "# visualize the results in a new window\n",
    "model.show_result(img, result)\n",
    "# or save the visualization results to image files\n",
    "model.show_result(img, result, out_file='bbox_imgs/61_bbox_test.jpg')\n"
   ]
  },
  {
   "cell_type": "code",
   "execution_count": null,
   "metadata": {},
   "outputs": [],
   "source": []
  }
 ],
 "metadata": {
  "interpreter": {
   "hash": "5336e623b002d26a1f558f113d43641ae3b5f9eedd6e0d06bd5a4d9e3d81c743"
  },
  "kernelspec": {
   "display_name": "Python 3.8.12 ('myenv')",
   "language": "python",
   "name": "python3"
  },
  "language_info": {
   "codemirror_mode": {
    "name": "ipython",
    "version": 3
   },
   "file_extension": ".py",
   "mimetype": "text/x-python",
   "name": "python",
   "nbconvert_exporter": "python",
   "pygments_lexer": "ipython3",
   "version": "3.8.12"
  },
  "orig_nbformat": 4
 },
 "nbformat": 4,
 "nbformat_minor": 2
}
